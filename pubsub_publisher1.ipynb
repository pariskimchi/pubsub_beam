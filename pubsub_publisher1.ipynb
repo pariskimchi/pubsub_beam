{
 "cells": [
  {
   "cell_type": "code",
   "execution_count": 1,
   "id": "6fb74f04",
   "metadata": {},
   "outputs": [],
   "source": [
    "from google.cloud import pubsub_v1"
   ]
  },
  {
   "cell_type": "code",
   "execution_count": 7,
   "id": "844fde9c",
   "metadata": {},
   "outputs": [],
   "source": [
    "credential_json_path = \"../handy-bindery-401205-33cea1d16721.json\""
   ]
  },
  {
   "cell_type": "code",
   "execution_count": 8,
   "id": "a8db1bcc",
   "metadata": {},
   "outputs": [
    {
     "data": {
      "text/plain": [
       "<google.cloud.pubsub_v1.PublisherClient at 0x1072df8b0>"
      ]
     },
     "execution_count": 8,
     "metadata": {},
     "output_type": "execute_result"
    }
   ],
   "source": [
    "### publisher_client 생성 \n",
    "publisher_client = pubsub_v1.PublisherClient.from_service_account_json(credential_json_path)\n",
    "publisher_client"
   ]
  },
  {
   "cell_type": "code",
   "execution_count": 21,
   "id": "87c6c85c",
   "metadata": {},
   "outputs": [],
   "source": [
    "### 토픽 생성 \n",
    "proj_id = \"handy-bindery-401205\"\n",
    "topic_name= \"food_topic\"\n",
    "topic_path = publisher_client.topic_path(proj_id, topic_name)"
   ]
  },
  {
   "cell_type": "code",
   "execution_count": 22,
   "id": "b1a419bb",
   "metadata": {},
   "outputs": [
    {
     "data": {
      "text/plain": [
       "'projects/handy-bindery-401205/topics/food_topic'"
      ]
     },
     "execution_count": 22,
     "metadata": {},
     "output_type": "execute_result"
    }
   ],
   "source": [
    "topic_path"
   ]
  },
  {
   "cell_type": "code",
   "execution_count": 23,
   "id": "f03febc4",
   "metadata": {},
   "outputs": [
    {
     "data": {
      "text/plain": [
       "ListTopicsPager<topics {\n",
       "  name: \"projects/handy-bindery-401205/topics/food_topic\"\n",
       "}\n",
       ">"
      ]
     },
     "execution_count": 23,
     "metadata": {},
     "output_type": "execute_result"
    }
   ],
   "source": [
    "### 토픽 리스트 확인 \n",
    "publisher_client.list_topics(request = {\"project\":f\"projects/{proj_id}\"})"
   ]
  },
  {
   "cell_type": "markdown",
   "id": "40f3c538",
   "metadata": {},
   "source": [
    "### 해당 topic에 데이터 전송"
   ]
  },
  {
   "cell_type": "code",
   "execution_count": 25,
   "id": "389f362b",
   "metadata": {},
   "outputs": [],
   "source": [
    "import time"
   ]
  },
  {
   "cell_type": "code",
   "execution_count": 46,
   "id": "8217c190",
   "metadata": {},
   "outputs": [],
   "source": [
    "import datetime"
   ]
  },
  {
   "cell_type": "code",
   "execution_count": 48,
   "id": "32ec4025",
   "metadata": {},
   "outputs": [
    {
     "data": {
      "text/plain": [
       "datetime.datetime(2023, 11, 13, 18, 17, 42, 75679)"
      ]
     },
     "execution_count": 48,
     "metadata": {},
     "output_type": "execute_result"
    }
   ],
   "source": [
    "datetime.datetime.now()"
   ]
  },
  {
   "cell_type": "code",
   "execution_count": 1,
   "id": "05fb7894",
   "metadata": {
    "scrolled": true
   },
   "outputs": [],
   "source": [
    "data_csv_path = \"../Batch_pipeline_dir/food_daily.csv\"\n",
    "with open(data_csv_path) as csv_file:\n",
    "    for row in csv_file:\n",
    "#         data = row.encode('utf-8-sig')\n",
    "#         publish_time = datetime.datetime.now().strftime(\"%Y-%m-%d %H:%M:%S\")\n",
    "\n",
    "        data = row.encode('utf-8-sig')\n",
    "\n",
    "        ### topic에 data -> publish\n",
    "        future = publisher_client.publish(topic_path, data=data)\n",
    "#         print(future.result())\n",
    "        time.sleep(1)\n"
   ]
  },
  {
   "cell_type": "markdown",
   "id": "3b32afac",
   "metadata": {},
   "source": [
    "### 위에서 해당 topic으로 전송 잘 되는것을 확인 가능"
   ]
  },
  {
   "cell_type": "code",
   "execution_count": null,
   "id": "5bbd6938",
   "metadata": {},
   "outputs": [],
   "source": []
  },
  {
   "cell_type": "markdown",
   "id": "7ec3972c",
   "metadata": {},
   "source": [
    "#### subscriber_client 생성"
   ]
  },
  {
   "cell_type": "code",
   "execution_count": 28,
   "id": "eb6d01b3",
   "metadata": {},
   "outputs": [
    {
     "data": {
      "text/plain": [
       "'projects/handy-bindery-401205/topics/food_topic'"
      ]
     },
     "execution_count": 28,
     "metadata": {},
     "output_type": "execute_result"
    }
   ],
   "source": [
    "topic_path"
   ]
  },
  {
   "cell_type": "code",
   "execution_count": 29,
   "id": "00a15739",
   "metadata": {},
   "outputs": [
    {
     "data": {
      "text/plain": [
       "<google.cloud.pubsub_v1.SubscriberClient at 0x10ca68670>"
      ]
     },
     "execution_count": 29,
     "metadata": {},
     "output_type": "execute_result"
    }
   ],
   "source": [
    "subscriber_client = pubsub_v1.SubscriberClient.from_service_account_json(credential_json_path)\n",
    "subscriber_client"
   ]
  },
  {
   "cell_type": "code",
   "execution_count": 32,
   "id": "91b53d1a",
   "metadata": {},
   "outputs": [
    {
     "name": "stdout",
     "output_type": "stream",
     "text": [
      "subscription name: projects/handy-bindery-401205/subscriptions/data_from_file_sub\n",
      "subscription name: projects/handy-bindery-401205/subscriptions/food_topic_sub\n"
     ]
    }
   ],
   "source": [
    "### subscription_path 설정 \n",
    "for subscription in subscriber_client.list_subscriptions(request = {\"project\":f\"projects/{proj_id}\"}):\n",
    "    print(f\"subscription name: {subscription.name}\")"
   ]
  },
  {
   "cell_type": "code",
   "execution_count": 33,
   "id": "9a98067f",
   "metadata": {},
   "outputs": [
    {
     "data": {
      "text/plain": [
       "'projects/handy-bindery-401205/subscriptions/food_topic_sub'"
      ]
     },
     "execution_count": 33,
     "metadata": {},
     "output_type": "execute_result"
    }
   ],
   "source": [
    "subscription_id = \"food_topic_sub\"\n",
    "subscription_path = subscriber_client.subscription_path(proj_id, subscription_id)\n",
    "subscription_path"
   ]
  },
  {
   "cell_type": "code",
   "execution_count": 36,
   "id": "c4bfb550",
   "metadata": {},
   "outputs": [],
   "source": [
    "### 메세지를 전달받을 Callback 함수 정의 \n",
    "def callback(message):\n",
    "    print(F\"Received MEssage: {message.data.decode('utf-8-sig')}\")\n",
    "#     print(message)\n",
    "    ## 메세지 처리후 확인 메세지 보내기\n",
    "    message.ack()"
   ]
  },
  {
   "cell_type": "code",
   "execution_count": 39,
   "id": "6564caf4",
   "metadata": {},
   "outputs": [],
   "source": [
    "### 구독을 생성하고 Callback 함수 연결합니다 \n",
    "streaming_pull_future = subscriber_client.subscribe(subscription_path,callback=callback)\n",
    "timeout = 100\n"
   ]
  },
  {
   "cell_type": "code",
   "execution_count": 41,
   "id": "60ef6777",
   "metadata": {},
   "outputs": [],
   "source": [
    "# streaming_pull_future.result(timeout=timeout)"
   ]
  },
  {
   "cell_type": "markdown",
   "id": "34168c59",
   "metadata": {},
   "source": [
    "#### subscriber.py를 따로 작성해서 추후에 테스트"
   ]
  },
  {
   "cell_type": "code",
   "execution_count": null,
   "id": "453104b6",
   "metadata": {},
   "outputs": [],
   "source": []
  },
  {
   "cell_type": "markdown",
   "id": "2cabf376",
   "metadata": {},
   "source": [
    "### 이제 streaming beam pipeline으로 bigQuery에 적재 하는 파이프라인 구성\n"
   ]
  },
  {
   "cell_type": "markdown",
   "id": "73035198",
   "metadata": {},
   "source": [
    "### bigquery client로 적재될 bigquery dataset, table 설정"
   ]
  },
  {
   "cell_type": "code",
   "execution_count": 55,
   "id": "09b40254",
   "metadata": {},
   "outputs": [],
   "source": [
    "from google.cloud import bigquery"
   ]
  },
  {
   "cell_type": "code",
   "execution_count": 58,
   "id": "ec4dd5e8",
   "metadata": {},
   "outputs": [],
   "source": [
    "import apache_beam as beam"
   ]
  },
  {
   "cell_type": "code",
   "execution_count": 59,
   "id": "dc67a213",
   "metadata": {},
   "outputs": [],
   "source": [
    "from apache_beam.options.pipeline_options import PipelineOptions,StandardOptions"
   ]
  },
  {
   "cell_type": "code",
   "execution_count": 60,
   "id": "eb60d5ca",
   "metadata": {},
   "outputs": [],
   "source": [
    "\n",
    "#project-id:dataset_id.table_id\n",
    "delivered_table_spec = f'{proj_id}:{dataset_id}.delivered_orders'\n",
    "#project-id:dataset_id.table_id\n",
    "other_table_spec = f'{proj_id}:{dataset_id}.other_status_orders'\n"
   ]
  },
  {
   "cell_type": "code",
   "execution_count": 61,
   "id": "4dccf56a",
   "metadata": {},
   "outputs": [
    {
     "data": {
      "text/plain": [
       "<google.cloud.bigquery.client.Client at 0x10d71dfd0>"
      ]
     },
     "execution_count": 61,
     "metadata": {},
     "output_type": "execute_result"
    }
   ],
   "source": [
    "## bigquery_client \n",
    "bq_client = bigquery.Client.from_service_account_json(credential_json_path)\n",
    "bq_client"
   ]
  },
  {
   "cell_type": "code",
   "execution_count": 70,
   "id": "582cef5d",
   "metadata": {},
   "outputs": [
    {
     "name": "stdout",
     "output_type": "stream",
     "text": [
      "bq_beam_dataset\n",
      "bq_test_dataset\n",
      "google_public_dataset\n"
     ]
    }
   ],
   "source": [
    "## BigQuery 내의 dataset list 확인\n",
    "for obj in bq_client.list_datasets():\n",
    "    print(obj.dataset_id)"
   ]
  },
  {
   "cell_type": "code",
   "execution_count": 74,
   "id": "03426d32",
   "metadata": {},
   "outputs": [
    {
     "data": {
      "text/plain": [
       "'handy-bindery-401205'"
      ]
     },
     "execution_count": 74,
     "metadata": {},
     "output_type": "execute_result"
    }
   ],
   "source": [
    "bq_client.project"
   ]
  },
  {
   "cell_type": "code",
   "execution_count": 77,
   "id": "c4dcaa3f",
   "metadata": {},
   "outputs": [
    {
     "data": {
      "text/plain": [
       "'handy-bindery-401205.bq_pubsub_beam_dataset'"
      ]
     },
     "execution_count": 77,
     "metadata": {},
     "output_type": "execute_result"
    }
   ],
   "source": [
    "dataset_id = f\"{bq_client.project}.bq_pubsub_beam_dataset\"\n",
    "dataset_id"
   ]
  },
  {
   "cell_type": "code",
   "execution_count": 76,
   "id": "53cb3993",
   "metadata": {},
   "outputs": [],
   "source": [
    "\n",
    "dataset=bigquery.Dataset(dataset_id)\n",
    "dataset.location = 'US'\n",
    "dataset.description = 'pubsub beam dataset streaming orders'\n",
    "### dataset 생성:'handy-bindery-401205.bq_pubsub_beam_dataset'\n",
    "dataset_ref = bq_client.create_dataset(dataset, timeout=30)"
   ]
  },
  {
   "cell_type": "code",
   "execution_count": 78,
   "id": "46d85a4d",
   "metadata": {},
   "outputs": [
    {
     "name": "stdout",
     "output_type": "stream",
     "text": [
      "bq_beam_dataset\n",
      "bq_pubsub_beam_dataset\n",
      "bq_test_dataset\n",
      "google_public_dataset\n"
     ]
    }
   ],
   "source": [
    "## BigQuery 내의 dataset list 확인\n",
    "for obj in bq_client.list_datasets():\n",
    "    print(obj.dataset_id)"
   ]
  },
  {
   "cell_type": "markdown",
   "id": "b0cf144d",
   "metadata": {},
   "source": [
    "### table Schema 설정"
   ]
  },
  {
   "cell_type": "code",
   "execution_count": 79,
   "id": "7c693023",
   "metadata": {},
   "outputs": [],
   "source": [
    "table_schema = 'customer_id:STRING,date:STRING,timestamp:STRING,order_id:STRING,items:STRING,amount:STRING,mode:STRING,restaurant:STRING,status:STRING,ratings:STRING,feedback:STRING,new_col:STRING'\n"
   ]
  },
  {
   "cell_type": "markdown",
   "id": "000fca2c",
   "metadata": {},
   "source": [
    "#### 이후에는 python script로 다시 작성"
   ]
  },
  {
   "cell_type": "code",
   "execution_count": null,
   "id": "545c3219",
   "metadata": {},
   "outputs": [],
   "source": []
  }
 ],
 "metadata": {
  "kernelspec": {
   "display_name": "pubsub_env",
   "language": "python",
   "name": "pubsub_env"
  },
  "language_info": {
   "codemirror_mode": {
    "name": "ipython",
    "version": 3
   },
   "file_extension": ".py",
   "mimetype": "text/x-python",
   "name": "python",
   "nbconvert_exporter": "python",
   "pygments_lexer": "ipython3",
   "version": "3.8.18"
  }
 },
 "nbformat": 4,
 "nbformat_minor": 5
}
